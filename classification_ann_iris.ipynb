{
  "nbformat": 4,
  "nbformat_minor": 0,
  "metadata": {
    "colab": {
      "provenance": [],
      "authorship_tag": "ABX9TyO64d5n6CM8l52EBFMxWgQh",
      "include_colab_link": true
    },
    "kernelspec": {
      "name": "python3",
      "display_name": "Python 3"
    },
    "language_info": {
      "name": "python"
    }
  },
  "cells": [
    {
      "cell_type": "markdown",
      "metadata": {
        "id": "view-in-github",
        "colab_type": "text"
      },
      "source": [
        "<a href=\"https://colab.research.google.com/github/anton-gavrilin/colab_google/blob/main/classification_ann_iris.ipynb\" target=\"_parent\"><img src=\"https://colab.research.google.com/assets/colab-badge.svg\" alt=\"Open In Colab\"/></a>"
      ]
    },
    {
      "cell_type": "markdown",
      "source": [
        "# Artificial neural network to classify flowers into three classes \n",
        "Examples of flowers classes: (Iris-setosa, Iris-versicolor, Iris-virginica)."
      ],
      "metadata": {
        "id": "OHpG1iJnvnlP"
      }
    },
    {
      "cell_type": "markdown",
      "source": [
        "Load significant libraries"
      ],
      "metadata": {
        "id": "MY6is8ZQyhGY"
      }
    },
    {
      "cell_type": "code",
      "execution_count": 2,
      "metadata": {
        "id": "vyVK1ICxui3_"
      },
      "outputs": [],
      "source": [
        "# Load libraries\n",
        "import pandas as pd\n",
        "import numpy\n",
        "import random\n",
        "from sklearn.model_selection import train_test_split\n",
        "from tensorflow.keras.models import Sequential\n",
        "from tensorflow.keras.layers import Dense"
      ]
    },
    {
      "cell_type": "markdown",
      "source": [
        "Load data and designate column names"
      ],
      "metadata": {
        "id": "0ic7lTYtyv2w"
      }
    },
    {
      "cell_type": "code",
      "source": [
        "# Load dataset\n",
        "filename = 'iris.data'\n",
        "names = ['sepal-length', 'sepal-width', 'petal-length', 'petal-width', 'class']\n",
        "dataset = pd.read_csv(filename, names=names)"
      ],
      "metadata": {
        "id": "YqNH4BJrvIkb"
      },
      "execution_count": 3,
      "outputs": []
    },
    {
      "cell_type": "markdown",
      "source": [
        "Display how looks dataset with grouping flowers where every flower have 50 data rows"
      ],
      "metadata": {
        "id": "R4koyk-Cy72r"
      }
    },
    {
      "cell_type": "code",
      "source": [
        "print(dataset)\n",
        "print(dataset.head())\n",
        "\n",
        "# class distribution\n",
        "print(dataset.groupby('class').size())"
      ],
      "metadata": {
        "colab": {
          "base_uri": "https://localhost:8080/"
        },
        "id": "BBF65ApyvZTg",
        "outputId": "92fdcf5f-4dee-4abd-f658-fc85d678a4ca"
      },
      "execution_count": 4,
      "outputs": [
        {
          "output_type": "stream",
          "name": "stdout",
          "text": [
            "     sepal-length  sepal-width  petal-length  petal-width           class\n",
            "0             5.1          3.5           1.4          0.2     Iris-setosa\n",
            "1             4.9          3.0           1.4          0.2     Iris-setosa\n",
            "2             4.7          3.2           1.3          0.2     Iris-setosa\n",
            "3             4.6          3.1           1.5          0.2     Iris-setosa\n",
            "4             5.0          3.6           1.4          0.2     Iris-setosa\n",
            "..            ...          ...           ...          ...             ...\n",
            "145           6.7          3.0           5.2          2.3  Iris-virginica\n",
            "146           6.3          2.5           5.0          1.9  Iris-virginica\n",
            "147           6.5          3.0           5.2          2.0  Iris-virginica\n",
            "148           6.2          3.4           5.4          2.3  Iris-virginica\n",
            "149           5.9          3.0           5.1          1.8  Iris-virginica\n",
            "\n",
            "[150 rows x 5 columns]\n",
            "   sepal-length  sepal-width  petal-length  petal-width        class\n",
            "0           5.1          3.5           1.4          0.2  Iris-setosa\n",
            "1           4.9          3.0           1.4          0.2  Iris-setosa\n",
            "2           4.7          3.2           1.3          0.2  Iris-setosa\n",
            "3           4.6          3.1           1.5          0.2  Iris-setosa\n",
            "4           5.0          3.6           1.4          0.2  Iris-setosa\n",
            "class\n",
            "Iris-setosa        50\n",
            "Iris-versicolor    50\n",
            "Iris-virginica     50\n",
            "dtype: int64\n"
          ]
        }
      ]
    },
    {
      "cell_type": "markdown",
      "source": [
        "Create sequance of layers that have: First layer specify number of input attributes; second layer use rectified linear unit for outputing small and large values; third layer or output layer has 3 nodes and uses the softmax activation function(outputs a 0 for all options and 1 for the chosen option)"
      ],
      "metadata": {
        "id": "9C0c2Ucn0s3k"
      }
    },
    {
      "cell_type": "code",
      "source": [
        "model = Sequential([\n",
        "    Dense(64, input_shape=(4,), kernel_initializer=\"random_uniform\", activation='relu'),\n",
        "    Dense(32, activation='relu'),\n",
        "    Dense(3, activation='softmax')\n",
        "])"
      ],
      "metadata": {
        "id": "Ju0gjXrbwKHu"
      },
      "execution_count": 5,
      "outputs": []
    },
    {
      "cell_type": "markdown",
      "source": [
        "Compile the model with sparse_categorical_crossentropy function - for multiclass logarithmic loss"
      ],
      "metadata": {
        "id": "p1UKxuok1zqV"
      }
    },
    {
      "cell_type": "code",
      "source": [
        "model.compile(loss='sparse_categorical_crossentropy',\n",
        "              optimizer='adam',\n",
        "              metrics=['accuracy'])"
      ],
      "metadata": {
        "id": "9iSvvDR-1zKw"
      },
      "execution_count": 6,
      "outputs": []
    },
    {
      "cell_type": "markdown",
      "source": [
        "* X is data without class column\n",
        "* Y is data of class column\n",
        "* Class is column that defines which flower of iris is it.\n",
        "Split data to train(2/3) and test(1/3)"
      ],
      "metadata": {
        "id": "br4D-q_H2vWj"
      }
    },
    {
      "cell_type": "code",
      "source": [
        "X = dataset.iloc[:, :-1].values\n",
        "y = dataset.iloc[:, -1].values\n",
        "\n",
        "Y = numpy.unique(y, return_inverse=True)[1]\n",
        "\n",
        "X_train, X_test, y_train, y_test = train_test_split(X, Y, test_size=0.33, random_state=7)"
      ],
      "metadata": {
        "id": "8uYXEWVwwhNk"
      },
      "execution_count": 29,
      "outputs": []
    },
    {
      "cell_type": "markdown",
      "source": [
        "Training over 50 epochs, and each epoch is split into 8 batches."
      ],
      "metadata": {
        "id": "opo69PKoz-uW"
      }
    },
    {
      "cell_type": "code",
      "source": [
        "epochs = 50\n",
        "batch_size = 8\n",
        "model.fit(X_train, y_train, epochs=epochs, batch_size=batch_size)"
      ],
      "metadata": {
        "colab": {
          "base_uri": "https://localhost:8080/"
        },
        "id": "5ZuUsHTixc1r",
        "outputId": "34d14029-20ec-401a-c578-4259476fe33c"
      },
      "execution_count": 9,
      "outputs": [
        {
          "output_type": "stream",
          "name": "stdout",
          "text": [
            "Epoch 1/50\n",
            "13/13 [==============================] - 0s 2ms/step - loss: 0.0777 - accuracy: 0.9700\n",
            "Epoch 2/50\n",
            "13/13 [==============================] - 0s 3ms/step - loss: 0.0731 - accuracy: 0.9700\n",
            "Epoch 3/50\n",
            "13/13 [==============================] - 0s 2ms/step - loss: 0.0810 - accuracy: 0.9700\n",
            "Epoch 4/50\n",
            "13/13 [==============================] - 0s 2ms/step - loss: 0.0707 - accuracy: 0.9800\n",
            "Epoch 5/50\n",
            "13/13 [==============================] - 0s 3ms/step - loss: 0.0770 - accuracy: 0.9700\n",
            "Epoch 6/50\n",
            "13/13 [==============================] - 0s 8ms/step - loss: 0.0761 - accuracy: 0.9800\n",
            "Epoch 7/50\n",
            "13/13 [==============================] - 0s 7ms/step - loss: 0.0658 - accuracy: 0.9700\n",
            "Epoch 8/50\n",
            "13/13 [==============================] - 0s 3ms/step - loss: 0.0680 - accuracy: 0.9800\n",
            "Epoch 9/50\n",
            "13/13 [==============================] - 0s 3ms/step - loss: 0.0652 - accuracy: 0.9800\n",
            "Epoch 10/50\n",
            "13/13 [==============================] - 0s 4ms/step - loss: 0.0634 - accuracy: 0.9800\n",
            "Epoch 11/50\n",
            "13/13 [==============================] - 0s 12ms/step - loss: 0.0755 - accuracy: 0.9700\n",
            "Epoch 12/50\n",
            "13/13 [==============================] - 0s 4ms/step - loss: 0.0775 - accuracy: 0.9700\n",
            "Epoch 13/50\n",
            "13/13 [==============================] - 0s 3ms/step - loss: 0.1097 - accuracy: 0.9300\n",
            "Epoch 14/50\n",
            "13/13 [==============================] - 0s 7ms/step - loss: 0.0897 - accuracy: 0.9700\n",
            "Epoch 15/50\n",
            "13/13 [==============================] - 0s 4ms/step - loss: 0.0657 - accuracy: 0.9800\n",
            "Epoch 16/50\n",
            "13/13 [==============================] - 0s 4ms/step - loss: 0.0698 - accuracy: 0.9800\n",
            "Epoch 17/50\n",
            "13/13 [==============================] - 0s 2ms/step - loss: 0.0602 - accuracy: 0.9800\n",
            "Epoch 18/50\n",
            "13/13 [==============================] - 0s 2ms/step - loss: 0.0652 - accuracy: 0.9700\n",
            "Epoch 19/50\n",
            "13/13 [==============================] - 0s 2ms/step - loss: 0.0733 - accuracy: 0.9800\n",
            "Epoch 20/50\n",
            "13/13 [==============================] - 0s 2ms/step - loss: 0.0594 - accuracy: 0.9800\n",
            "Epoch 21/50\n",
            "13/13 [==============================] - 0s 2ms/step - loss: 0.0603 - accuracy: 0.9800\n",
            "Epoch 22/50\n",
            "13/13 [==============================] - 0s 2ms/step - loss: 0.0603 - accuracy: 0.9800\n",
            "Epoch 23/50\n",
            "13/13 [==============================] - 0s 2ms/step - loss: 0.0665 - accuracy: 0.9700\n",
            "Epoch 24/50\n",
            "13/13 [==============================] - 0s 2ms/step - loss: 0.0696 - accuracy: 0.9800\n",
            "Epoch 25/50\n",
            "13/13 [==============================] - 0s 2ms/step - loss: 0.0573 - accuracy: 0.9800\n",
            "Epoch 26/50\n",
            "13/13 [==============================] - 0s 3ms/step - loss: 0.0608 - accuracy: 0.9700\n",
            "Epoch 27/50\n",
            "13/13 [==============================] - 0s 2ms/step - loss: 0.0958 - accuracy: 0.9500\n",
            "Epoch 28/50\n",
            "13/13 [==============================] - 0s 2ms/step - loss: 0.0621 - accuracy: 0.9800\n",
            "Epoch 29/50\n",
            "13/13 [==============================] - 0s 3ms/step - loss: 0.0881 - accuracy: 0.9700\n",
            "Epoch 30/50\n",
            "13/13 [==============================] - 0s 2ms/step - loss: 0.0830 - accuracy: 0.9800\n",
            "Epoch 31/50\n",
            "13/13 [==============================] - 0s 2ms/step - loss: 0.0758 - accuracy: 0.9700\n",
            "Epoch 32/50\n",
            "13/13 [==============================] - 0s 2ms/step - loss: 0.0633 - accuracy: 0.9800\n",
            "Epoch 33/50\n",
            "13/13 [==============================] - 0s 2ms/step - loss: 0.0679 - accuracy: 0.9800\n",
            "Epoch 34/50\n",
            "13/13 [==============================] - 0s 2ms/step - loss: 0.0669 - accuracy: 0.9700\n",
            "Epoch 35/50\n",
            "13/13 [==============================] - 0s 2ms/step - loss: 0.0576 - accuracy: 0.9800\n",
            "Epoch 36/50\n",
            "13/13 [==============================] - 0s 3ms/step - loss: 0.0584 - accuracy: 0.9800\n",
            "Epoch 37/50\n",
            "13/13 [==============================] - 0s 2ms/step - loss: 0.0734 - accuracy: 0.9600\n",
            "Epoch 38/50\n",
            "13/13 [==============================] - 0s 2ms/step - loss: 0.0632 - accuracy: 0.9800\n",
            "Epoch 39/50\n",
            "13/13 [==============================] - 0s 2ms/step - loss: 0.0656 - accuracy: 0.9800\n",
            "Epoch 40/50\n",
            "13/13 [==============================] - 0s 2ms/step - loss: 0.0785 - accuracy: 0.9600\n",
            "Epoch 41/50\n",
            "13/13 [==============================] - 0s 2ms/step - loss: 0.0849 - accuracy: 0.9600\n",
            "Epoch 42/50\n",
            "13/13 [==============================] - 0s 2ms/step - loss: 0.0770 - accuracy: 0.9700\n",
            "Epoch 43/50\n",
            "13/13 [==============================] - 0s 3ms/step - loss: 0.0692 - accuracy: 0.9700\n",
            "Epoch 44/50\n",
            "13/13 [==============================] - 0s 2ms/step - loss: 0.0598 - accuracy: 0.9800\n",
            "Epoch 45/50\n",
            "13/13 [==============================] - 0s 2ms/step - loss: 0.0533 - accuracy: 0.9800\n",
            "Epoch 46/50\n",
            "13/13 [==============================] - 0s 2ms/step - loss: 0.0610 - accuracy: 0.9700\n",
            "Epoch 47/50\n",
            "13/13 [==============================] - 0s 2ms/step - loss: 0.0539 - accuracy: 0.9800\n",
            "Epoch 48/50\n",
            "13/13 [==============================] - 0s 2ms/step - loss: 0.0603 - accuracy: 0.9800\n",
            "Epoch 49/50\n",
            "13/13 [==============================] - 0s 2ms/step - loss: 0.0532 - accuracy: 0.9800\n",
            "Epoch 50/50\n",
            "13/13 [==============================] - 0s 2ms/step - loss: 0.0526 - accuracy: 0.9800\n"
          ]
        },
        {
          "output_type": "execute_result",
          "data": {
            "text/plain": [
              "<keras.callbacks.History at 0x7f03b9c952b0>"
            ]
          },
          "metadata": {},
          "execution_count": 9
        }
      ]
    },
    {
      "cell_type": "code",
      "source": [
        "# Evaluate the model\n",
        "loss, accuracy = model.evaluate(X_test, y_test, verbose=0)\n",
        "print(f'Test loss: {loss:.3f}')\n",
        "print(f'Test accuracy: {accuracy:.3f}')"
      ],
      "metadata": {
        "colab": {
          "base_uri": "https://localhost:8080/"
        },
        "id": "yFGXwqAKrSuy",
        "outputId": "c91641ff-32b8-4d7c-e2fc-96ec324f0b71"
      },
      "execution_count": 10,
      "outputs": [
        {
          "output_type": "stream",
          "name": "stdout",
          "text": [
            "Test loss: 0.076\n",
            "Test accuracy: 0.960\n"
          ]
        }
      ]
    },
    {
      "cell_type": "markdown",
      "source": [
        "Take some random 5 inputs of existed data and put it to model to predict correct answer"
      ],
      "metadata": {
        "id": "dt5N8-FB3ndK"
      }
    },
    {
      "cell_type": "code",
      "source": [
        "def get_name_by_num(num):\n",
        "    return \"Iris-setosa\" if num == 0 else \"Iris-versicolor\" if num == 1 else \"Iris-virginica\"\n",
        "\n",
        "random_inputs = [random.randint(0, 150) for _ in range(5)]\n",
        "inputs_data = [X[i].tolist() for i in random_inputs]\n",
        "predictions = (model.predict(inputs_data) > 0.5).astype(int)\n",
        "\n",
        "# summarize the first 5 cases\n",
        "for i in random_inputs:\n",
        "    predicted_index = random_inputs.index(i)\n",
        "    true_index = numpy.where(predictions[predicted_index] == 1)[0][0]\n",
        "    predicted = get_name_by_num(true_index)\n",
        "    expected = get_name_by_num(Y[i])\n",
        "    print(f'{X[i]} => {predicted} (expected -> {expected})')"
      ],
      "metadata": {
        "colab": {
          "base_uri": "https://localhost:8080/"
        },
        "id": "TuXn60LEB2H2",
        "outputId": "95828b44-6ca0-415a-b4f9-e9ff53524e16"
      },
      "execution_count": 27,
      "outputs": [
        {
          "output_type": "stream",
          "name": "stdout",
          "text": [
            "1/1 [==============================] - 0s 39ms/step\n",
            "[6.1 2.8 4.7 1.2] => Iris-versicolor (expected -> Iris-versicolor)\n",
            "[6.  3.  4.8 1.8] => Iris-virginica (expected -> Iris-virginica)\n",
            "[6.6 2.9 4.6 1.3] => Iris-versicolor (expected -> Iris-versicolor)\n",
            "[6.7 3.3 5.7 2.5] => Iris-virginica (expected -> Iris-virginica)\n",
            "[7.7 3.8 6.7 2.2] => Iris-virginica (expected -> Iris-virginica)\n"
          ]
        }
      ]
    },
    {
      "cell_type": "code",
      "source": [
        "model.summary()"
      ],
      "metadata": {
        "colab": {
          "base_uri": "https://localhost:8080/"
        },
        "id": "SlsY9t9uCTiM",
        "outputId": "c86ed746-a64c-4389-bd70-36c6ca1006b2"
      },
      "execution_count": 31,
      "outputs": [
        {
          "output_type": "stream",
          "name": "stdout",
          "text": [
            "Model: \"sequential_1\"\n",
            "_________________________________________________________________\n",
            " Layer (type)                Output Shape              Param #   \n",
            "=================================================================\n",
            " dense_3 (Dense)             (None, 64)                320       \n",
            "                                                                 \n",
            " dense_4 (Dense)             (None, 32)                2080      \n",
            "                                                                 \n",
            " dense_5 (Dense)             (None, 3)                 99        \n",
            "                                                                 \n",
            "=================================================================\n",
            "Total params: 2,499\n",
            "Trainable params: 2,499\n",
            "Non-trainable params: 0\n",
            "_________________________________________________________________\n"
          ]
        }
      ]
    },
    {
      "cell_type": "code",
      "source": [
        "print(model.get_config())"
      ],
      "metadata": {
        "colab": {
          "base_uri": "https://localhost:8080/"
        },
        "id": "HwRz8XAUCU9C",
        "outputId": "74059b51-df5c-48a1-d78d-b5c397338054"
      },
      "execution_count": 32,
      "outputs": [
        {
          "output_type": "stream",
          "name": "stdout",
          "text": [
            "{'name': 'sequential_1', 'layers': [{'class_name': 'InputLayer', 'config': {'batch_input_shape': (None, 4), 'dtype': 'float32', 'sparse': False, 'ragged': False, 'name': 'dense_3_input'}}, {'class_name': 'Dense', 'config': {'name': 'dense_3', 'trainable': True, 'dtype': 'float32', 'batch_input_shape': (None, 4), 'units': 64, 'activation': 'relu', 'use_bias': True, 'kernel_initializer': {'class_name': 'RandomUniform', 'config': {'minval': -0.05, 'maxval': 0.05, 'seed': None}}, 'bias_initializer': {'class_name': 'Zeros', 'config': {}}, 'kernel_regularizer': None, 'bias_regularizer': None, 'activity_regularizer': None, 'kernel_constraint': None, 'bias_constraint': None}}, {'class_name': 'Dense', 'config': {'name': 'dense_4', 'trainable': True, 'dtype': 'float32', 'units': 32, 'activation': 'relu', 'use_bias': True, 'kernel_initializer': {'class_name': 'GlorotUniform', 'config': {'seed': None}}, 'bias_initializer': {'class_name': 'Zeros', 'config': {}}, 'kernel_regularizer': None, 'bias_regularizer': None, 'activity_regularizer': None, 'kernel_constraint': None, 'bias_constraint': None}}, {'class_name': 'Dense', 'config': {'name': 'dense_5', 'trainable': True, 'dtype': 'float32', 'units': 3, 'activation': 'softmax', 'use_bias': True, 'kernel_initializer': {'class_name': 'GlorotUniform', 'config': {'seed': None}}, 'bias_initializer': {'class_name': 'Zeros', 'config': {}}, 'kernel_regularizer': None, 'bias_regularizer': None, 'activity_regularizer': None, 'kernel_constraint': None, 'bias_constraint': None}}]}\n"
          ]
        }
      ]
    }
  ]
}
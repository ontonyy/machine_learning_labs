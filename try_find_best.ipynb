{
 "cells": [
  {
   "cell_type": "code",
   "execution_count": 4,
   "metadata": {
    "collapsed": true,
    "ExecuteTime": {
     "start_time": "2023-05-09T11:34:44.030513Z",
     "end_time": "2023-05-09T11:34:44.034120Z"
    }
   },
   "outputs": [],
   "source": [
    "import random\n",
    "import os\n",
    "import cv2 as cv\n",
    "import numpy as np\n",
    "import tensorflow as tf\n",
    "import tensorflow_datasets as tfds\n",
    "from tensorflow.keras.datasets import cifar100\n",
    "\n",
    "from PIL import Image\n",
    "from matplotlib import pyplot as plt\n",
    "from tensorflow.keras.layers import Dense, LSTM, Embedding, Conv2D, MaxPooling2D, Flatten, Dropout, BatchNormalization\n",
    "from tensorflow.keras.callbacks import EarlyStopping"
   ]
  },
  {
   "cell_type": "code",
   "execution_count": 2,
   "outputs": [],
   "source": [
    "batch_size = 128\n",
    "shuffle_size = 1024\n",
    "epochs = 15"
   ],
   "metadata": {
    "collapsed": false,
    "ExecuteTime": {
     "start_time": "2023-05-09T10:16:38.958908Z",
     "end_time": "2023-05-09T10:16:38.969450Z"
    }
   }
  },
  {
   "cell_type": "code",
   "execution_count": 5,
   "outputs": [],
   "source": [
    "(input_train, target_train), (input_test, target_test) = cifar100.load_data()\n",
    "input_train = input_train.astype('float32')\n",
    "input_test = input_test.astype('float32')\n",
    "\n",
    "input_train = input_train / 255\n",
    "input_test = input_test / 255"
   ],
   "metadata": {
    "collapsed": false,
    "ExecuteTime": {
     "start_time": "2023-05-09T11:34:49.061343Z",
     "end_time": "2023-05-09T11:34:49.721256Z"
    }
   }
  },
  {
   "cell_type": "code",
   "execution_count": 4,
   "outputs": [],
   "source": [
    "class_names = info.features[\"label\"].names\n",
    "n_classes = info.features[\"label\"].num_classes\n",
    "input_shape = info.features['image'].shape"
   ],
   "metadata": {
    "collapsed": false,
    "ExecuteTime": {
     "start_time": "2023-05-09T10:16:56.999233Z",
     "end_time": "2023-05-09T10:16:57.029587Z"
    }
   }
  },
  {
   "cell_type": "code",
   "execution_count": 12,
   "outputs": [],
   "source": [
    "model = tf.keras.Sequential([\n",
    "    Conv2D(32, (3, 3), padding='same', activation='relu', input_shape=(32, 32, 3)),\n",
    "    MaxPooling2D((2, 2)),\n",
    "\n",
    "    Conv2D(64, kernel_size=(3, 3), padding=\"same\", activation=\"relu\"),\n",
    "    MaxPooling2D((2, 2)),\n",
    "\n",
    "    Conv2D(128, kernel_size=(3, 3), padding=\"same\", activation=\"relu\"),\n",
    "    MaxPooling2D((2, 2)),\n",
    "\n",
    "    Flatten(),\n",
    "    Dense(256, activation=\"relu\"),\n",
    "    Dropout(0.25),\n",
    "    Dense(100, activation=\"softmax\")\n",
    "])"
   ],
   "metadata": {
    "collapsed": false,
    "ExecuteTime": {
     "start_time": "2023-05-09T11:38:28.778147Z",
     "end_time": "2023-05-09T11:38:28.808689Z"
    }
   }
  },
  {
   "cell_type": "code",
   "execution_count": 13,
   "outputs": [
    {
     "name": "stdout",
     "output_type": "stream",
     "text": [
      "Epoch 1/20\n",
      "800/800 [==============================] - 15s 18ms/step - loss: 3.9712 - accuracy: 0.0878 - val_loss: 3.4334 - val_accuracy: 0.1824\n",
      "Epoch 2/20\n",
      "800/800 [==============================] - 15s 18ms/step - loss: 3.2659 - accuracy: 0.2069 - val_loss: 3.0319 - val_accuracy: 0.2603\n",
      "Epoch 3/20\n",
      "800/800 [==============================] - 15s 19ms/step - loss: 2.8940 - accuracy: 0.2748 - val_loss: 2.7371 - val_accuracy: 0.3156\n",
      "Epoch 4/20\n",
      "800/800 [==============================] - 15s 19ms/step - loss: 2.6477 - accuracy: 0.3243 - val_loss: 2.7213 - val_accuracy: 0.3198\n",
      "Epoch 5/20\n",
      "800/800 [==============================] - 15s 19ms/step - loss: 2.4582 - accuracy: 0.3638 - val_loss: 2.4972 - val_accuracy: 0.3656\n",
      "Epoch 6/20\n",
      "800/800 [==============================] - 15s 18ms/step - loss: 2.2920 - accuracy: 0.3987 - val_loss: 2.4256 - val_accuracy: 0.3845\n",
      "Epoch 7/20\n",
      "800/800 [==============================] - 15s 18ms/step - loss: 2.1607 - accuracy: 0.4254 - val_loss: 2.4386 - val_accuracy: 0.3810\n",
      "Epoch 8/20\n",
      "800/800 [==============================] - 15s 18ms/step - loss: 2.0279 - accuracy: 0.4559 - val_loss: 2.3584 - val_accuracy: 0.4003\n",
      "Epoch 9/20\n",
      "800/800 [==============================] - 15s 18ms/step - loss: 1.9051 - accuracy: 0.4801 - val_loss: 2.4338 - val_accuracy: 0.3924\n",
      "Epoch 10/20\n",
      "800/800 [==============================] - 15s 18ms/step - loss: 1.7792 - accuracy: 0.5067 - val_loss: 2.4311 - val_accuracy: 0.3953\n",
      "Epoch 11/20\n",
      "800/800 [==============================] - 15s 18ms/step - loss: 1.6844 - accuracy: 0.5254 - val_loss: 2.4825 - val_accuracy: 0.3975\n",
      "Epoch 12/20\n",
      "800/800 [==============================] - 15s 18ms/step - loss: 1.5824 - accuracy: 0.5531 - val_loss: 2.4573 - val_accuracy: 0.3981\n",
      "Epoch 13/20\n",
      "800/800 [==============================] - 15s 19ms/step - loss: 1.4874 - accuracy: 0.5728 - val_loss: 2.5618 - val_accuracy: 0.3987\n",
      "Epoch 14/20\n",
      "800/800 [==============================] - 15s 19ms/step - loss: 1.3972 - accuracy: 0.5913 - val_loss: 2.6159 - val_accuracy: 0.3948\n",
      "Epoch 15/20\n",
      "800/800 [==============================] - 16s 20ms/step - loss: 1.3144 - accuracy: 0.6140 - val_loss: 2.6553 - val_accuracy: 0.3939\n",
      "Epoch 16/20\n",
      "800/800 [==============================] - 15s 19ms/step - loss: 1.2451 - accuracy: 0.6300 - val_loss: 2.7417 - val_accuracy: 0.3953\n",
      "Epoch 17/20\n",
      "800/800 [==============================] - 15s 19ms/step - loss: 1.1687 - accuracy: 0.6510 - val_loss: 2.8027 - val_accuracy: 0.3918\n",
      "Epoch 18/20\n",
      "800/800 [==============================] - 15s 18ms/step - loss: 1.0983 - accuracy: 0.6686 - val_loss: 2.9414 - val_accuracy: 0.3920\n",
      "Epoch 19/20\n",
      "800/800 [==============================] - 14s 18ms/step - loss: 1.0509 - accuracy: 0.6793 - val_loss: 2.9948 - val_accuracy: 0.3826\n",
      "Epoch 20/20\n",
      "800/800 [==============================] - 14s 18ms/step - loss: 0.9844 - accuracy: 0.6975 - val_loss: 3.1016 - val_accuracy: 0.3894\n"
     ]
    },
    {
     "data": {
      "text/plain": "<keras.callbacks.History at 0x2fe257460>"
     },
     "execution_count": 13,
     "metadata": {},
     "output_type": "execute_result"
    }
   ],
   "source": [
    "val_loss_stop = EarlyStopping(monitor='val_loss', mode='min', verbose=1, patience=10)\n",
    "val_accuracy_stop = EarlyStopping(monitor='val_accuracy', mode='min', verbose=1, patience=10)\n",
    "\n",
    "model.compile(optimizer='adam', loss='sparse_categorical_crossentropy', metrics=['accuracy'])\n",
    "model.fit(input_train, target_train,\n",
    "            batch_size=50,\n",
    "            epochs=20,\n",
    "            verbose=1,\n",
    "            validation_split=0.2)"
   ],
   "metadata": {
    "collapsed": false,
    "ExecuteTime": {
     "start_time": "2023-05-09T11:38:35.764900Z",
     "end_time": "2023-05-09T11:43:31.599860Z"
    }
   }
  },
  {
   "cell_type": "markdown",
   "source": [],
   "metadata": {
    "collapsed": false
   }
  },
  {
   "cell_type": "code",
   "execution_count": null,
   "outputs": [],
   "source": [],
   "metadata": {
    "collapsed": false
   }
  }
 ],
 "metadata": {
  "kernelspec": {
   "display_name": "Python 3",
   "language": "python",
   "name": "python3"
  },
  "language_info": {
   "codemirror_mode": {
    "name": "ipython",
    "version": 2
   },
   "file_extension": ".py",
   "mimetype": "text/x-python",
   "name": "python",
   "nbconvert_exporter": "python",
   "pygments_lexer": "ipython2",
   "version": "2.7.6"
  }
 },
 "nbformat": 4,
 "nbformat_minor": 0
}

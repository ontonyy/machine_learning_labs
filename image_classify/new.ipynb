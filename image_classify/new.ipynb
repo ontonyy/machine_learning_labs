{
 "cells": [
  {
   "cell_type": "markdown",
   "source": [
    "# Import all libraries\n",
    "\n",
    "*cv2*: OpenCV library, which provides tools for computer vision tasks such as image processing, feature detection, and object recognition.\n",
    "\n",
    "*numpy*: numerical computing, which is commonly used for data manipulation and array operations.\n",
    "\n",
    "*tensorflow*: Main library of machine learning for building and training deep learning models.\n",
    "\n",
    "*tensorflow_datasets*: Provides preprocessed datasets for machine learning tasks.\n",
    "\n",
    "*matplotlib*: Creating visualizations, which may be used for plotting model performance during training.\n",
    "\n",
    "*import of Dense, Conv2D, MaxPooling2D, Flatten, Dropout, and BatchNormalization*: These are Keras layers from TensorFlow that can be used to build neural networks for various machine learning tasks, more for image classification."
   ],
   "metadata": {
    "collapsed": false
   }
  },
  {
   "cell_type": "code",
   "execution_count": null,
   "metadata": {
    "collapsed": true
   },
   "outputs": [],
   "source": [
    "import os\n",
    "import random\n",
    "import cv2 as cv\n",
    "import numpy as np\n",
    "import matplotlib.pyplot as plt\n",
    "import tensorflow_datasets as tfds\n",
    "\n",
    "from tensorflow.keras.datasets import cifar10\n",
    "from tensorflow.keras.models import Sequential\n",
    "from tensorflow.keras.preprocessing.image import ImageDataGenerator\n",
    "from tensorflow.keras.callbacks import EarlyStopping, TensorBoard, ReduceLROnPlateau\n",
    "from tensorflow.keras.layers import Dense, Conv2D, MaxPooling2D, Flatten, Dropout, BatchNormalization"
   ]
  },
  {
   "cell_type": "markdown",
   "source": [
    "## Set hyperparameters, for affect model performance\n",
    "batch_size(128) - how much images the model will process at a time during each training iteration.\n",
    "epochs(30) - number of model iterations during training process\n",
    "Callback functions which used during training process:\n",
    "* tensorboard_callback - allows you to use TensorBoard, which is a visualization tool provided by TensorFlow, in web UI: http://localhost:6006/\n",
    "* stop_val_loss - monitors the validation loss and stops the training process if it does not improve for a certain number of epochs(30)\n",
    "* stop_val_accuracy - monitors the validation accuracy and stops the training process if it does not improve for a certain number of epochs(30)\n",
    "* lr_schedule_val_loss - monitors the validation loss and reduces the learning rate (lr) when it does not improve for a certain number of epochs(30)"
   ],
   "metadata": {
    "collapsed": false
   }
  },
  {
   "cell_type": "code",
   "execution_count": null,
   "outputs": [],
   "source": [
    "dataset_name = 'cifar10'\n",
    "image_directory = 'random_images'\n",
    "batch_size = 128\n",
    "n_epochs = 30\n",
    "tensorboard_callback = TensorBoard(log_dir=f'logs/{dataset_name}')\n",
    "stop_val_loss = EarlyStopping(monitor='val_loss', mode='min', verbose=1, patience=20)\n",
    "stop_val_accuracy = EarlyStopping(monitor='val_acc', mode='min', verbose=1, patience=20)\n",
    "lr_schedule_val_loss = ReduceLROnPlateau(monitor='val_loss', factor=0.5, patience=5)"
   ],
   "metadata": {
    "collapsed": false
   }
  }
 ],
 "metadata": {
  "kernelspec": {
   "display_name": "Python 3",
   "language": "python",
   "name": "python3"
  },
  "language_info": {
   "codemirror_mode": {
    "name": "ipython",
    "version": 2
   },
   "file_extension": ".py",
   "mimetype": "text/x-python",
   "name": "python",
   "nbconvert_exporter": "python",
   "pygments_lexer": "ipython2",
   "version": "2.7.6"
  }
 },
 "nbformat": 4,
 "nbformat_minor": 0
}
